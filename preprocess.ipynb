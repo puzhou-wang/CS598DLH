{
 "cells": [
  {
   "cell_type": "code",
   "execution_count": null,
   "metadata": {},
   "outputs": [],
   "source": [
    "# code block to track CPU time and Memory usage\n",
    "import psutil\n",
    "import time\n",
    "\n",
    "start_memory = psutil.virtual_memory().available\n",
    "start_time = time.time()"
   ]
  },
  {
   "cell_type": "code",
   "execution_count": null,
   "metadata": {},
   "outputs": [],
   "source": [
    "import numpy as np\n",
    "import pandas as pd\n",
    "import pickle\n",
    "import matplotlib as plt\n",
    "from itertools import combinations\n",
    "import re"
   ]
  },
  {
   "cell_type": "markdown",
   "metadata": {},
   "source": [
    "All data and preprocessing results are stored under `.data/`"
   ]
  },
  {
   "cell_type": "code",
   "execution_count": null,
   "metadata": {},
   "outputs": [],
   "source": [
    "data_path='data/' \n",
    "exp_id='v0'"
   ]
  },
  {
   "cell_type": "markdown",
   "metadata": {},
   "source": [
    "Create a code mapping dictionary"
   ]
  },
  {
   "cell_type": "code",
   "execution_count": null,
   "metadata": {},
   "outputs": [],
   "source": [
    "codes={}"
   ]
  },
  {
   "cell_type": "markdown",
   "metadata": {},
   "source": [
    "Load drug's target (from CTDbase)"
   ]
  },
  {
   "cell_type": "code",
   "execution_count": null,
   "metadata": {},
   "outputs": [],
   "source": [
    "gene_drug=pd.read_csv(data_path+'CTD/drug-gene-CTD_C0000657245_ixns.tsv', sep='\\t')"
   ]
  },
  {
   "cell_type": "code",
   "execution_count": null,
   "metadata": {},
   "outputs": [],
   "source": [
    "gene_drug.head()"
   ]
  },
  {
   "cell_type": "markdown",
   "metadata": {},
   "source": [
    "Save the drug name and MeSH ID mapping for later use"
   ]
  },
  {
   "cell_type": "code",
   "execution_count": null,
   "metadata": {},
   "outputs": [],
   "source": [
    "codes['drugname2mesh']={row[0].upper():row[1] for idx, row in gene_drug[['Chemical Name','Chemical ID']].drop_duplicates().iterrows()}\n",
    "codes['mesh2drugname']={row[0].upper():row[1] for idx, row in gene_drug[['Chemical ID','Chemical Name']].drop_duplicates().iterrows()}\n",
    "codes['gene_symbol2id'] = {row[0].upper():row[1] for idx, row in gene_drug[['Gene Symbol','Gene ID']].drop_duplicates().iterrows()}"
   ]
  },
  {
   "cell_type": "code",
   "execution_count": null,
   "metadata": {},
   "outputs": [],
   "source": [
    "gene_drug=gene_drug[['Gene ID', 'Chemical Name']].drop_duplicates()\n",
    "gene_drug['Chemical Name']=gene_drug['Chemical Name'].apply(lambda x: x.upper() if type(x)==str else x)\n",
    "\n",
    "gene_drug['Gene ID']=gene_drug['Gene ID'].apply(lambda x: 'gene_'+str(x))\n",
    "gene_drug['Chemical Name']=gene_drug['Chemical Name'].apply(lambda x: 'drug_'+x)\n",
    "\n",
    "gene_drug.drop_duplicates(inplace=True)\n"
   ]
  },
  {
   "cell_type": "markdown",
   "metadata": {},
   "source": [
    "Load pathways from CTDbase"
   ]
  },
  {
   "cell_type": "code",
   "execution_count": null,
   "metadata": {},
   "outputs": [],
   "source": [
    "pathways=pd.read_csv(data_path+'CTD/pathways-CTD_D000086382_pathways.tsv',sep='\\t')\n",
    "path_sim=pd.concat([pd.DataFrame(list(combinations(pathway,2,)),columns=['gene1','gene2']) for pathway in pathways['Association inferred via'].apply(lambda x: x.split('|') if '|' in x else None).dropna().values]).drop_duplicates()"
   ]
  },
  {
   "cell_type": "markdown",
   "metadata": {},
   "source": [
    "Load pathways from KEGG. The files were preprocessed as a pairwise gene"
   ]
  },
  {
   "cell_type": "code",
   "execution_count": null,
   "metadata": {},
   "outputs": [],
   "source": [
    "path_sim_kegg=pd.read_csv(data_path+'biology-database/KegglinkevaluationPPPN_1', header=None,sep='\\t')\n",
    "path_sim_kegg.columns=['gene1', 'gene2', 'positive']\n",
    "path_sim_kegg.replace('PP', 1, inplace=True)\n",
    "path_sim_kegg.replace('PN', 0, inplace=True)\n",
    "\n",
    "path_sim_kegg=path_sim_kegg.loc[path_sim_kegg['positive']==1, ['gene1','gene2']]\n",
    "\n",
    "gene_name =pd.read_excel(data_path+'biology-database/All_Human_Protein_Coding_Genes_3_27_2020.xlsx')\n",
    "gene_dict= {row['Gene Id']:row['Gene Symbol'] for _, row in gene_name[['Gene Id','Gene Symbol']].iterrows()}"
   ]
  },
  {
   "cell_type": "code",
   "execution_count": null,
   "metadata": {},
   "outputs": [],
   "source": [
    "path_sim_kegg['gene1']=path_sim_kegg['gene1'].apply(lambda x: gene_dict.get(x))\n",
    "path_sim_kegg['gene2']=path_sim_kegg['gene2'].apply(lambda x: gene_dict.get(x))"
   ]
  },
  {
   "cell_type": "code",
   "execution_count": null,
   "metadata": {},
   "outputs": [],
   "source": [
    "path_sim_kegg.dropna(inplace=True)"
   ]
  },
  {
   "cell_type": "markdown",
   "metadata": {},
   "source": [
    "Load PHARMAKB [pathways](https://www.pharmgkb.org/page/COVID)"
   ]
  },
  {
   "cell_type": "code",
   "execution_count": null,
   "metadata": {},
   "outputs": [],
   "source": [
    "pathway_ace_inhibitor=list(set(['ATP6AP2', 'MAPK1', 'AGTR2', 'ATP6AP2', 'REN', 'MAS1', 'TGFB1', 'MAPK3', 'ATP6AP2', 'MAPK3',\n",
    "                       'AGTR1','TGFB1', 'MAPK1', 'NOS3', 'BDKRB2', 'BDKRB2', 'BDKRB1', 'NR3C2', 'CYP11B2', 'AGTR1', 'CYP11B2', 'AGTR1', 'AGT', 'KNG1', 'CYP11B2', 'ACE']))\n",
    "pathway_fluv=['CYP1A2','CYP2C19','CYP3A']\n",
    "pathway_losartan=list(set(['AGTR1','CYP2C9',\"CYP3A4\",'CYP2C9',\"CYP3A4\",'CYP2C9',\"CYP3A4\", 'CYP2C9',\"CYP3A4\", 'UGT1A1',\"UGT2B7\"]))"
   ]
  },
  {
   "cell_type": "code",
   "execution_count": null,
   "metadata": {},
   "outputs": [],
   "source": [
    "path_sim=pd.concat([path_sim]+[path_sim_kegg]+[pd.DataFrame(list(combinations(pathway,2,)),columns=['gene1','gene2']) for pathway in [pathway_ace_inhibitor,pathway_fluv,pathway_losartan]])"
   ]
  },
  {
   "cell_type": "code",
   "execution_count": null,
   "metadata": {},
   "outputs": [],
   "source": [
    "path_sim['gene1']=path_sim['gene1'].apply(lambda x: codes['gene_symbol2id'].get(x))\n",
    "path_sim['gene2']=path_sim['gene2'].apply(lambda x: codes['gene_symbol2id'].get(x))\n",
    "path_sim.dropna(inplace=True)\n",
    "path_sim['gene1']=path_sim['gene1'].apply(lambda x: 'gene_'+str(int(x)))\n",
    "path_sim['gene2']=path_sim['gene2'].apply(lambda x: 'gene_'+str(int(x)))\n",
    "path_sim.drop_duplicates(inplace=True)"
   ]
  },
  {
   "cell_type": "code",
   "execution_count": null,
   "metadata": {},
   "outputs": [],
   "source": [
    "len(path_sim)"
   ]
  },
  {
   "cell_type": "markdown",
   "metadata": {},
   "source": [
    "Load phenotypes from CTDbase"
   ]
  },
  {
   "cell_type": "code",
   "execution_count": null,
   "metadata": {},
   "outputs": [],
   "source": [
    "phenotypes=pd.read_csv(data_path+'CTD/phenotype-drug-gene-CTD_D000086382_diseases.tsv', sep='\\t')"
   ]
  },
  {
   "cell_type": "code",
   "execution_count": null,
   "metadata": {},
   "outputs": [],
   "source": [
    "phenotypes.head()"
   ]
  },
  {
   "cell_type": "code",
   "execution_count": null,
   "metadata": {},
   "outputs": [],
   "source": [
    "codes['phenotype_id_to_name']={row[0]:row[1] for idx, row in phenotypes[['Phenotype Term ID','Phenotype Term Name']].drop_duplicates().iterrows()}"
   ]
  },
  {
   "cell_type": "markdown",
   "metadata": {},
   "source": [
    "Drugs and phenotypes"
   ]
  },
  {
   "cell_type": "code",
   "execution_count": null,
   "metadata": {},
   "outputs": [],
   "source": [
    "drug_phenotype=phenotypes['Chemical Inference Network'].dropna().apply(lambda x: x.split('|')).apply(pd.Series).merge(phenotypes['Phenotype Term ID'],left_index=True, right_index=True).melt(id_vars=['Phenotype Term ID'],value_name='drug').drop('variable', axis=1).dropna()\n",
    "drug_phenotype['drug']=drug_phenotype['drug'].apply(lambda x: x.upper())\n",
    "drug_phenotype.dropna(inplace=True)\n",
    "\n",
    "drug_phenotype['Phenotype Term ID']=drug_phenotype['Phenotype Term ID'].apply(lambda x: 'phenotype_'+x)\n",
    "drug_phenotype['drug']=drug_phenotype['drug'].apply(lambda x: 'drug_'+x)\n",
    "drug_phenotype=drug_phenotype[['drug', 'Phenotype Term ID']]\n"
   ]
  },
  {
   "cell_type": "markdown",
   "metadata": {},
   "source": [
    "Genes and phenotypes"
   ]
  },
  {
   "cell_type": "code",
   "execution_count": null,
   "metadata": {},
   "outputs": [],
   "source": [
    "gene_phenotype=phenotypes['Gene Inference Network'].dropna().apply(lambda x: x.split('|')).apply(pd.Series).merge(phenotypes['Phenotype Term ID'],left_index=True, right_index=True).melt(id_vars=['Phenotype Term ID'],value_name='gene').drop('variable', axis=1).dropna()\n",
    "gene_phenotype['Phenotype Term ID']=gene_phenotype['Phenotype Term ID'].apply(lambda x: 'phenotype_'+x)\n",
    "\n",
    "gene_phenotype['gene']=gene_phenotype['gene'].apply(lambda x: codes['gene_symbol2id'].get(x))\n",
    "gene_phenotype.dropna(inplace=True)\n",
    "gene_phenotype['gene']=gene_phenotype['gene'].apply(lambda x: 'gene_'+str(int(x)))\n",
    "gene_phenotype=gene_phenotype[['gene', 'Phenotype Term ID']]"
   ]
  },
  {
   "cell_type": "code",
   "execution_count": null,
   "metadata": {},
   "outputs": [],
   "source": [
    "len(set(gene_drug['Chemical Name'].values).intersection(set(drug_phenotype['drug'].values)))"
   ]
  },
  {
   "cell_type": "code",
   "execution_count": null,
   "metadata": {},
   "outputs": [],
   "source": [
    "len(set(drug_phenotype['drug'].values))"
   ]
  },
  {
   "cell_type": "markdown",
   "metadata": {},
   "source": [
    "Load SARS-CoV-2 baits and host gene interaction from [Gorden et al. Nature 2020](https://www.nature.com/articles/s41586-020-2286-9#Sec36)"
   ]
  },
  {
   "cell_type": "code",
   "execution_count": null,
   "metadata": {},
   "outputs": [],
   "source": [
    "baits_prey=pd.read_csv(data_path+'biology-database/baits-prey-mist.csv')"
   ]
  },
  {
   "cell_type": "code",
   "execution_count": null,
   "metadata": {},
   "outputs": [],
   "source": [
    "baits_prey=baits_prey[['Bait', 'PreyGene']]"
   ]
  },
  {
   "cell_type": "code",
   "execution_count": null,
   "metadata": {},
   "outputs": [],
   "source": [
    "baits_prey['Bait'].nunique(), baits_prey['PreyGene'].nunique()"
   ]
  },
  {
   "cell_type": "code",
   "execution_count": null,
   "metadata": {},
   "outputs": [],
   "source": [
    "baits_prey['Bait']=baits_prey['Bait'].apply(lambda x: 'bait_'+x)\n",
    "baits_prey['PreyGene']=baits_prey['PreyGene'].apply(lambda x: codes['gene_symbol2id'].get(x))\n",
    "baits_prey.dropna(inplace=True)\n",
    "baits_prey['PreyGene']=baits_prey['PreyGene'].apply(lambda x: 'gene_'+str(int(x)))"
   ]
  },
  {
   "cell_type": "code",
   "execution_count": null,
   "metadata": {},
   "outputs": [],
   "source": [
    "#size of drug target, pathway, host gene, phenotype-related genes\n",
    "gene_drug['Gene ID'].nunique(),len(set(path_sim[['gene1','gene2']].values.ravel())),len(set(baits_prey['PreyGene'].unique())), gene_phenotype['gene'].nunique()"
   ]
  },
  {
   "cell_type": "code",
   "execution_count": null,
   "metadata": {},
   "outputs": [],
   "source": [
    "#number of intersection between host genes and drug target\n",
    "len(set(baits_prey['PreyGene'].unique()).intersection(gene_drug['Gene ID'].unique()))"
   ]
  },
  {
   "cell_type": "code",
   "execution_count": null,
   "metadata": {},
   "outputs": [],
   "source": [
    "#intersection between target and pathways\n",
    "len(set(gene_drug['Gene ID'].unique()).intersection(set(path_sim[['gene1','gene2']].values.ravel())))"
   ]
  },
  {
   "cell_type": "code",
   "execution_count": null,
   "metadata": {},
   "outputs": [],
   "source": [
    "#intersection between pathways and host gene\n",
    "len(set(baits_prey['PreyGene'].unique()).intersection(set(path_sim[['gene1','gene2']].values.ravel())))"
   ]
  },
  {
   "cell_type": "code",
   "execution_count": null,
   "metadata": {},
   "outputs": [],
   "source": [
    "#intersection between pathways, target genes, host gene\n",
    "len(set(baits_prey['PreyGene'].unique()).intersection(set(path_sim[['gene1','gene2']].values.ravel())).intersection(set(gene_drug['Gene ID'].unique()) ))\n"
   ]
  },
  {
   "cell_type": "markdown",
   "metadata": {},
   "source": [
    "Map all the entities (drugs, genes, phenotypes, baits) to ID"
   ]
  },
  {
   "cell_type": "code",
   "execution_count": null,
   "metadata": {},
   "outputs": [],
   "source": [
    "from sklearn.preprocessing import LabelEncoder"
   ]
  },
  {
   "cell_type": "code",
   "execution_count": null,
   "metadata": {},
   "outputs": [],
   "source": [
    "gene_drug.columns=['node1', 'node2']# gene, drug\n",
    "path_sim.columns=['node1', 'node2']# gene1, gene2\n",
    "baits_prey.columns=['node1','node2']#bait, preygene\n",
    "gene_phenotype.columns=['node1', 'node2'] #gene, phenotype\n",
    "drug_phenotype.columns=['node1','node2']#drug, phenotye"
   ]
  },
  {
   "cell_type": "code",
   "execution_count": null,
   "metadata": {},
   "outputs": [],
   "source": [
    "gene_drug['type']='gene-drug'\n",
    "path_sim['type']='gene-gene'\n",
    "baits_prey['type']='bait-gene'\n",
    "gene_phenotype['type']='gene-phenotype'\n",
    "drug_phenotype['type']='drug-phenotype'\n",
    "\n",
    "edge_index=pd.concat([gene_drug, path_sim, baits_prey, gene_phenotype, drug_phenotype])\n",
    "\n",
    "edge_index['node1']=edge_index['node1'].astype(str)\n",
    "edge_index['node2']=edge_index['node2'].astype(str)"
   ]
  },
  {
   "cell_type": "markdown",
   "metadata": {},
   "source": [
    "Label Encoders"
   ]
  },
  {
   "cell_type": "code",
   "execution_count": null,
   "metadata": {},
   "outputs": [],
   "source": [
    "le=LabelEncoder()\n",
    "le.fit(np.concatenate((edge_index['node1'], edge_index['node2'])))"
   ]
  },
  {
   "cell_type": "code",
   "execution_count": null,
   "metadata": {},
   "outputs": [],
   "source": [
    "edge_index['node1']=le.transform(edge_index['node1'])\n",
    "edge_index['node2']=le.transform(edge_index['node2'])"
   ]
  },
  {
   "cell_type": "code",
   "execution_count": null,
   "metadata": {},
   "outputs": [],
   "source": [
    "len(le.classes_)"
   ]
  },
  {
   "cell_type": "markdown",
   "metadata": {},
   "source": [
    "Obtain pre-trained entity embedding from [DRKG](https://github.com/gnn4dr/DRKG)"
   ]
  },
  {
   "cell_type": "code",
   "execution_count": null,
   "metadata": {},
   "outputs": [],
   "source": [
    "import csv"
   ]
  },
  {
   "cell_type": "code",
   "execution_count": null,
   "metadata": {},
   "outputs": [],
   "source": [
    "#Get pretrained embedding\n",
    "entity_emb=np.load(data_path+'DRKG/embed/DRKG_TransE_l2_entity.npy')\n",
    "emb_size=entity_emb.shape[1]"
   ]
  },
  {
   "cell_type": "code",
   "execution_count": null,
   "metadata": {},
   "outputs": [],
   "source": [
    "entity_idmap_file = data_path+'DRKG/embed/entities.tsv'\n",
    "relation_idmap_file = data_path+'DRKG/embed/relations.tsv'"
   ]
  },
  {
   "cell_type": "code",
   "execution_count": null,
   "metadata": {},
   "outputs": [],
   "source": [
    "baits_drkg=['Disease::'+entity.split('_')[1] for entity  in le.classes_ if entity.split('_')[0]=='bait']\n",
    "gene_drkg = ['Gene::'+entity.split('_')[1] for entity in le.classes_ if entity.split('_')[0]=='gene']\n",
    "phenotype_drkg=['Biological Process::'+entity.split('_')[1] for entity in le.classes_ if entity.split('_')[0]=='phenotype']"
   ]
  },
  {
   "cell_type": "markdown",
   "metadata": {},
   "source": [
    "Map the DRKG's DrugBank ID to MeSH ID"
   ]
  },
  {
   "cell_type": "code",
   "execution_count": null,
   "metadata": {},
   "outputs": [],
   "source": [
    "drugname2external=pd.concat([\n",
    "    pd.read_csv(data_path+'CTD/drugbank_drugs.csv', encoding = \"ISO-8859-1\").rename(columns={'drugbank_id':'id'}),\n",
    "    pd.read_csv(data_path+'CTD/chembl_compound.csv').rename(columns={'name':'drugname'})\n",
    "]).groupby('drugname', as_index=False).first()\n",
    "\n",
    "drugname2id={row[0].upper():row[1] for _, row in drugname2external[['drugname', 'id']].iterrows()}\n",
    "drug_drkg = ['Compound::'+drugname2id.get(entity.split('_')[1],'') for entity in le.classes_ if entity.split('_')[0]=='drug']"
   ]
  },
  {
   "cell_type": "markdown",
   "metadata": {},
   "source": [
    "Get drugname/disease name to entity ID mappings"
   ]
  },
  {
   "cell_type": "code",
   "execution_count": null,
   "metadata": {
    "scrolled": true
   },
   "outputs": [],
   "source": [
    "entity_map = {}\n",
    "entity_id_map = {}\n",
    "relation_map = {}\n",
    "with open(entity_idmap_file, newline='', encoding='utf-8') as csvfile:\n",
    "    reader = csv.DictReader(csvfile, delimiter='\\t', fieldnames=['name','id'])\n",
    "    for row_val in reader:\n",
    "        entity_map[row_val['name']] = int(row_val['id'])\n",
    "        entity_id_map[int(row_val['id'])] = row_val['name']\n",
    "        \n",
    "with open(relation_idmap_file, newline='', encoding='utf-8') as csvfile:\n",
    "    reader = csv.DictReader(csvfile, delimiter='\\t', fieldnames=['name','id'])\n",
    "    for row_val in reader:\n",
    "        relation_map[row_val['name']] = int(row_val['id'])\n",
    "        \n",
    "# handle the ID mapping\n",
    "bait_ids = []\n",
    "gene_ids = []\n",
    "drug_ids = []\n",
    "phenotype_ids = []\n",
    "\n",
    "    \n",
    "for bait in baits_drkg:\n",
    "    bait_ids.append(entity_map.get(bait))\n",
    "\n",
    "for gene in gene_drkg:\n",
    "    gene_ids.append(entity_map.get(gene))\n",
    "    \n",
    "for drug in drug_drkg:\n",
    "    drug_ids.append(entity_map.get(drug))\n",
    "    \n",
    "for phenotype in phenotype_drkg:\n",
    "    phenotype_ids.append(entity_map.get(phenotype))\n"
   ]
  },
  {
   "cell_type": "markdown",
   "metadata": {},
   "source": [
    "## 1. hybrid embedding: COVID-19 graph + DRKG pre-train"
   ]
  },
  {
   "cell_type": "code",
   "execution_count": null,
   "metadata": {},
   "outputs": [],
   "source": [
    "bait_emb=np.array([entity_emb[bait_id] if bait_id is not None else np.zeros(emb_size) for bait_id in bait_ids ])\n",
    "drug_emb=np.array([entity_emb[drug_id] if drug_id is not None else np.zeros(emb_size) for drug_id in drug_ids ])\n",
    "gene_emb=np.array([entity_emb[gene_id] if gene_id is not None else np.zeros(emb_size) for gene_id in gene_ids ])\n",
    "phenotype_emb=np.array([entity_emb[phenotype_id] if phenotype_id is not None else np.zeros(emb_size) for phenotype_id in phenotype_ids ])\n"
   ]
  },
  {
   "cell_type": "code",
   "execution_count": null,
   "metadata": {},
   "outputs": [],
   "source": [
    "#How many missing in drugs?\n",
    "len(drug_ids),len([gene_id for gene_id in drug_ids if gene_id is not None])"
   ]
  },
  {
   "cell_type": "code",
   "execution_count": null,
   "metadata": {},
   "outputs": [],
   "source": [
    "#How many missing in genes?\n",
    "len(gene_ids),len([gene_id for gene_id in gene_ids if gene_id is not None])"
   ]
  },
  {
   "cell_type": "code",
   "execution_count": null,
   "metadata": {},
   "outputs": [],
   "source": [
    "#How many missing in phenotypes?\n",
    "len(phenotype_ids),len([gene_id for gene_id in phenotype_ids if gene_id is not None])"
   ]
  },
  {
   "cell_type": "markdown",
   "metadata": {},
   "source": [
    "The pre-trained embedding is now serived as a node feature"
   ]
  },
  {
   "cell_type": "code",
   "execution_count": null,
   "metadata": {},
   "outputs": [],
   "source": [
    "node_features=np.concatenate((bait_emb, drug_emb, gene_emb, phenotype_emb))"
   ]
  },
  {
   "cell_type": "markdown",
   "metadata": {},
   "source": [
    "## 2. COVID-19 graph alone embedding"
   ]
  },
  {
   "cell_type": "code",
   "execution_count": null,
   "metadata": {},
   "outputs": [],
   "source": [
    "np.random.rand(4)"
   ]
  },
  {
   "cell_type": "code",
   "execution_count": null,
   "metadata": {},
   "outputs": [],
   "source": [
    "bait_emb_ph = np.random.dirichlet(alpha=np.random.rand(emb_size), size=len(bait_ids))\n",
    "drug_emb_ph = np.random.dirichlet(alpha=np.random.rand(emb_size), size=len(drug_ids))\n",
    "gene_emb_ph = np.random.dirichlet(alpha=np.random.rand(emb_size), size=len(gene_ids))\n",
    "phenotype_emb_ph = np.random.dirichlet(alpha=np.random.rand(emb_size), size=len(phenotype_ids))"
   ]
  },
  {
   "cell_type": "code",
   "execution_count": null,
   "metadata": {},
   "outputs": [],
   "source": [
    "node_features_alone = np.concatenate((bait_emb_ph, drug_emb_ph, gene_emb_ph, phenotype_emb_ph))"
   ]
  },
  {
   "cell_type": "code",
   "execution_count": null,
   "metadata": {},
   "outputs": [],
   "source": [
    "edge_index.to_pickle(data_path+'edge_index_'+exp_id+'.pkl')\n",
    "pickle.dump(le, open(data_path+'LabelEncoder_'+exp_id+'.pkl','wb'))\n",
    "pickle.dump(node_features, open(data_path+'node_feature_'+exp_id+'.pkl', 'wb'))\n",
    "pickle.dump(node_features_alone, open(data_path+'dirichlet_node_feature_'+exp_id+'.pkl', 'wb'))\n",
    "pickle.dump(codes, open(data_path+'codes_'+exp_id+'.pkl','wb'))"
   ]
  },
  {
   "cell_type": "markdown",
   "metadata": {},
   "source": [
    "## 3. hybrid embedding without bait-prey information"
   ]
  },
  {
   "cell_type": "code",
   "execution_count": null,
   "metadata": {},
   "outputs": [],
   "source": [
    "edge_index=pd.concat([gene_drug, path_sim, gene_phenotype, drug_phenotype])\n",
    "\n",
    "edge_index['node1']=edge_index['node1'].astype(str)\n",
    "edge_index['node2']=edge_index['node2'].astype(str)"
   ]
  },
  {
   "cell_type": "code",
   "execution_count": null,
   "metadata": {},
   "outputs": [],
   "source": [
    "le=LabelEncoder()\n",
    "le.fit(np.concatenate((edge_index['node1'], edge_index['node2'])))"
   ]
  },
  {
   "cell_type": "code",
   "execution_count": null,
   "metadata": {},
   "outputs": [],
   "source": [
    "edge_index['node1']=le.transform(edge_index['node1'])\n",
    "edge_index['node2']=le.transform(edge_index['node2'])"
   ]
  },
  {
   "cell_type": "code",
   "execution_count": null,
   "metadata": {},
   "outputs": [],
   "source": [
    "len(le.classes_)"
   ]
  },
  {
   "cell_type": "code",
   "execution_count": null,
   "metadata": {},
   "outputs": [],
   "source": [
    "# handle the ID mapping\n",
    "gene_ids = []\n",
    "drug_ids = []\n",
    "phenotype_ids = []\n",
    "\n",
    "    \n",
    "for gene in gene_drkg:\n",
    "    gene_ids.append(entity_map.get(gene))\n",
    "    \n",
    "for drug in drug_drkg:\n",
    "    drug_ids.append(entity_map.get(drug))\n",
    "    \n",
    "for phenotype in phenotype_drkg:\n",
    "    phenotype_ids.append(entity_map.get(phenotype))\n"
   ]
  },
  {
   "cell_type": "code",
   "execution_count": null,
   "metadata": {},
   "outputs": [],
   "source": [
    "drug_emb=np.array([entity_emb[drug_id] if drug_id is not None else np.zeros(emb_size) for drug_id in drug_ids ])\n",
    "gene_emb=np.array([entity_emb[gene_id] if gene_id is not None else np.zeros(emb_size) for gene_id in gene_ids ])\n",
    "phenotype_emb=np.array([entity_emb[phenotype_id] if phenotype_id is not None else np.zeros(emb_size) for phenotype_id in phenotype_ids ])\n"
   ]
  },
  {
   "cell_type": "code",
   "execution_count": null,
   "metadata": {},
   "outputs": [],
   "source": [
    "node_features=np.concatenate((bait_emb, drug_emb, gene_emb, phenotype_emb))"
   ]
  },
  {
   "cell_type": "code",
   "execution_count": null,
   "metadata": {},
   "outputs": [],
   "source": [
    "edge_index.to_pickle(data_path+'edge_index_no_bp_'+exp_id+'.pkl')\n",
    "pickle.dump(le, open(data_path+'LabelEncoder_no_bp_'+exp_id+'.pkl','wb'))\n",
    "pickle.dump(node_features, open(data_path+'node_feature_no_bp_'+exp_id+'.pkl', 'wb'))"
   ]
  },
  {
   "cell_type": "code",
   "execution_count": null,
   "metadata": {},
   "outputs": [],
   "source": [
    "# code block to track CPU / Memory usage\n",
    "cpu_sec = time.time() - start_time\n",
    "end_memory = psutil.virtual_memory().available\n",
    "mem_use = (start_memory - end_memory) / (1024.0 ** 2)\n",
    "print(f'CPU time: {cpu_sec:.2f} sec')\n",
    "print(f'Memory usage: {mem_use:.2f} MB')"
   ]
  },
  {
   "cell_type": "code",
   "execution_count": null,
   "metadata": {},
   "outputs": [],
   "source": []
  }
 ],
 "metadata": {
  "kernelspec": {
   "display_name": "drg",
   "language": "python",
   "name": "drg"
  },
  "language_info": {
   "codemirror_mode": {
    "name": "ipython",
    "version": 3
   },
   "file_extension": ".py",
   "mimetype": "text/x-python",
   "name": "python",
   "nbconvert_exporter": "python",
   "pygments_lexer": "ipython3",
   "version": "3.7.11"
  }
 },
 "nbformat": 4,
 "nbformat_minor": 2
}
